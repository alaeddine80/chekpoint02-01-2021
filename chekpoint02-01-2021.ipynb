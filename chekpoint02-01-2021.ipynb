{
 "cells": [
  {
   "cell_type": "code",
   "execution_count": 61,
   "metadata": {},
   "outputs": [
    {
     "name": "stdout",
     "output_type": "stream",
     "text": [
      "Bessassi Alaeddine\n"
     ]
    }
   ],
   "source": [
    "#Question1\n",
    "first_name=\"Alaeddine\"\n",
    "last_name=\"Bessassi\"\n",
    "print(last_name+\" \"+first_name)"
   ]
  },
  {
   "cell_type": "code",
   "execution_count": 135,
   "metadata": {},
   "outputs": [
    {
     "name": "stdout",
     "output_type": "stream",
     "text": [
      "5\n",
      "615\n"
     ]
    }
   ],
   "source": [
    "#Question2:\n",
    "x=input()\n",
    "str1=x+x\n",
    "str2=x+x+x\n",
    "y=int(x)+int(str1)+int(str2)\n",
    "print(y)"
   ]
  },
  {
   "cell_type": "code",
   "execution_count": 341,
   "metadata": {},
   "outputs": [
    {
     "name": "stdout",
     "output_type": "stream",
     "text": [
      "55\n",
      "55 is an odd number\n"
     ]
    }
   ],
   "source": [
    "#question3\n",
    "x=input()\n",
    "y=int(x)%2\n",
    "if y==0:\n",
    "   print(x,\"is an even number\")\n",
    "elif y!=0:\n",
    "    print(x,\"is an odd number\")\n",
    "\n",
    "\n",
    "\n"
   ]
  },
  {
   "cell_type": "code",
   "execution_count": 196,
   "metadata": {},
   "outputs": [
    {
     "name": "stdout",
     "output_type": "stream",
     "text": [
      "8\n",
      "40320\n"
     ]
    }
   ],
   "source": [
    "#Question5\n",
    "y=1\n",
    "x=int(input())\n",
    "for x in range (1,x+1):\n",
    "    y=y*x\n",
    "print(str(y))\n"
   ]
  },
  {
   "cell_type": "code",
   "execution_count": 319,
   "metadata": {},
   "outputs": [
    {
     "name": "stdout",
     "output_type": "stream",
     "text": [
      "1000\n",
      "500.0\n"
     ]
    }
   ],
   "source": [
    "#Question7\n",
    "x=int(input())\n",
    "y=[0.5,0.3,0.1]\n",
    "price=x*y\n",
    "if x>= 500:\n",
    "    price=x*0.5\n",
    "elif 199<x>499:\n",
    "    price=x*0.3\n",
    "elif x<199:\n",
    "    price=x*0.1\n",
    "print(price)\n",
    "    "
   ]
  },
  {
   "cell_type": "code",
   "execution_count": 340,
   "metadata": {},
   "outputs": [
    {
     "name": "stdout",
     "output_type": "stream",
     "text": [
      "1999\n",
      "1999 is not a leap year\n"
     ]
    }
   ],
   "source": [
    "#question8\n",
    "year=int(input())\n",
    "if year % 4==0:\n",
    "    print((year) ,\"is a leap year\")\n",
    "else:\n",
    "    print((year),\"is not a leap year\")\n"
   ]
  },
  {
   "cell_type": "code",
   "execution_count": null,
   "metadata": {},
   "outputs": [],
   "source": []
  },
  {
   "cell_type": "code",
   "execution_count": null,
   "metadata": {},
   "outputs": [],
   "source": []
  }
 ],
 "metadata": {
  "kernelspec": {
   "display_name": "Python 3",
   "language": "python",
   "name": "python3"
  },
  "language_info": {
   "codemirror_mode": {
    "name": "ipython",
    "version": 3
   },
   "file_extension": ".py",
   "mimetype": "text/x-python",
   "name": "python",
   "nbconvert_exporter": "python",
   "pygments_lexer": "ipython3",
   "version": "3.8.5"
  }
 },
 "nbformat": 4,
 "nbformat_minor": 4
}
